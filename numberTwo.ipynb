{
  "nbformat": 4,
  "nbformat_minor": 0,
  "metadata": {
    "colab": {
      "name": "numberTwo.ipynb",
      "provenance": [],
      "collapsed_sections": [],
      "toc_visible": true,
      "include_colab_link": true
    },
    "kernelspec": {
      "name": "python3",
      "display_name": "Python 3"
    }
  },
  "cells": [
    {
      "cell_type": "markdown",
      "metadata": {
        "id": "view-in-github",
        "colab_type": "text"
      },
      "source": [
        "<a href=\"https://colab.research.google.com/github/Cjh6116/numberTwo/blob/master/numberTwo.ipynb\" target=\"_parent\"><img src=\"https://colab.research.google.com/assets/colab-badge.svg\" alt=\"Open In Colab\"/></a>"
      ]
    },
    {
      "cell_type": "markdown",
      "metadata": {
        "id": "6sOc4Uyr4U-Z",
        "colab_type": "text"
      },
      "source": [
        "## Graph Types"
      ]
    },
    {
      "cell_type": "markdown",
      "metadata": {
        "id": "0zZdVLAd5CYr",
        "colab_type": "text"
      },
      "source": [
        "Creator:\n",
        "Casey Heilig "
      ]
    },
    {
      "cell_type": "markdown",
      "metadata": {
        "id": "g-r6Clq45Hn4",
        "colab_type": "text"
      },
      "source": [
        "### Deviation\n"
      ]
    },
    {
      "cell_type": "markdown",
      "metadata": {
        "id": "2gorxo6E7A0t",
        "colab_type": "text"
      },
      "source": [
        "![alt text](https://raw.githubusercontent.com/Cjh6116/LabOne1/master/Screen%20Shot%202020-02-21%20at%204.28.00%20AM.png)"
      ]
    },
    {
      "cell_type": "markdown",
      "metadata": {
        "id": "w6bZ_NEi7E3w",
        "colab_type": "text"
      },
      "source": [
        "#### What is this telling us?"
      ]
    },
    {
      "cell_type": "markdown",
      "metadata": {
        "id": "95L-spaC7QHF",
        "colab_type": "text"
      },
      "source": [
        "First, I added up all of the winning team’s points and divided them to find the average, which was 4938. Then, I subtracted that number by the sum of the winning team's points to find if the teams that year were above or below the average. This is the best depiction out of the deviation graphs because it’s easy to read and easy to understand. The graph is splitting a single value, whether it’s above the x-axis, then it’s above average and teams scored a lot of points that year or it’s below the y-axis in which the winning teams didn’t score a lot of points that year."
      ]
    },
    {
      "cell_type": "markdown",
      "metadata": {
        "id": "YgXyXjmz7cDP",
        "colab_type": "text"
      },
      "source": [
        "### Correlation\n"
      ]
    },
    {
      "cell_type": "markdown",
      "metadata": {
        "id": "SGx15rZq7hvt",
        "colab_type": "text"
      },
      "source": [
        "![alt text](https://raw.githubusercontent.com/Cjh6116/LabOne1/master/Screen%20Shot%202020-02-21%20at%204.43.22%20AM.png)"
      ]
    },
    {
      "cell_type": "markdown",
      "metadata": {
        "id": "dljjONNi7jmj",
        "colab_type": "text"
      },
      "source": [
        "#### What is this telling us?"
      ]
    },
    {
      "cell_type": "markdown",
      "metadata": {
        "id": "PwZEZrFB7laG",
        "colab_type": "text"
      },
      "source": [
        "The correlation graph has one dimension which is the year the games were played, and one measurement, which is the average points of the winning teams. This graph tells the user that in order to win the game the team should get an average of 70 points or more. The graph shows this because over a span of 32 years only the first year, 1985, the average points of the winning team was under 70 points. Getting closer to present day, the graph has been constantly increasing at a very slow rate but has now stayed circa 77 points."
      ]
    },
    {
      "cell_type": "markdown",
      "metadata": {
        "id": "MqUdI-uL7r2s",
        "colab_type": "text"
      },
      "source": [
        "### Ranking\n"
      ]
    },
    {
      "cell_type": "markdown",
      "metadata": {
        "id": "AvlxCOVt7x9F",
        "colab_type": "text"
      },
      "source": [
        "![alt text](https://raw.githubusercontent.com/Cjh6116/LabOne1/master/Screen%20Shot%202020-02-21%20at%204.35.25%20AM.png)"
      ]
    },
    {
      "cell_type": "markdown",
      "metadata": {
        "id": "lCAYtfza7yTq",
        "colab_type": "text"
      },
      "source": [
        "#### What is this telling us?"
      ]
    },
    {
      "cell_type": "markdown",
      "metadata": {
        "id": "MyuciD277ygU",
        "colab_type": "text"
      },
      "source": [
        "For the ranking graph, I chose to use an ordered bar graph and put the year the game was played in the row section, and the average points for the winning team in the column section. After that, I put each year in ascending order from the least amount of points to the greatest amount of winning points based on what teams averaged out the most winning points per year. By ordering the data it made it much easier to clearly tell on average what year scored the most points while winning a game, which was the year 1993."
      ]
    },
    {
      "cell_type": "markdown",
      "metadata": {
        "id": "dGDGl8-G7y8Y",
        "colab_type": "text"
      },
      "source": [
        "### Distribution\n"
      ]
    },
    {
      "cell_type": "markdown",
      "metadata": {
        "id": "FB0uV-jy76p9",
        "colab_type": "text"
      },
      "source": [
        "![alt text](https://raw.githubusercontent.com/Cjh6116/LabOne1/master/Screen%20Shot%202020-02-21%20at%209.43.18%20AM.png)"
      ]
    },
    {
      "cell_type": "markdown",
      "metadata": {
        "id": "_6SOzhrQ76zH",
        "colab_type": "text"
      },
      "source": [
        "#### What is this telling us?"
      ]
    },
    {
      "cell_type": "markdown",
      "metadata": {
        "id": "HBWqsS_g767h",
        "colab_type": "text"
      },
      "source": [
        "For the distribution section, I thought it would be best to use a bar graph. On the x-axis I used the year in which the games were played. On the y-axis I used the winning points. This data shows one random team to get a better representation of how one team progresses throughout a 32 year period. The graph is skewed right which tells the reader that the team started off strong in the late 80’s but never did better than in 1990’s when the team scored 142 points to win the game."
      ]
    },
    {
      "cell_type": "markdown",
      "metadata": {
        "id": "wQsDThk677Fy",
        "colab_type": "text"
      },
      "source": [
        "### Change over Time\n"
      ]
    },
    {
      "cell_type": "markdown",
      "metadata": {
        "id": "Z1j_YLOA7_OK",
        "colab_type": "text"
      },
      "source": [
        "![alt text](https://raw.githubusercontent.com/Cjh6116/LabOne1/master/Screen%20Shot%202020-02-21%20at%209.09.43%20AM.png)"
      ]
    },
    {
      "cell_type": "markdown",
      "metadata": {
        "id": "mpfsmmgi7_Vj",
        "colab_type": "text"
      },
      "source": [
        "#### What is this telling us?"
      ]
    },
    {
      "cell_type": "markdown",
      "metadata": {
        "id": "rYLXoMMO7_di",
        "colab_type": "text"
      },
      "source": [
        "To depict the data changing over time I used a connected scatterplot to show the way the data was sloping. In the row section, I chose the average of the losing seed compared to the column section which I chose the year the games were played. I chose this to see if there was a specific seed at which the teams would consistently losing, and I found it to be slightly increasing but, the graph stayed relatively constant between the eighth seed and the ninth seed."
      ]
    },
    {
      "cell_type": "markdown",
      "metadata": {
        "id": "lFwiHoE-7_jZ",
        "colab_type": "text"
      },
      "source": [
        "### Magnitude\n"
      ]
    },
    {
      "cell_type": "markdown",
      "metadata": {
        "id": "ICQFnXj78EbF",
        "colab_type": "text"
      },
      "source": [
        "![alt text](https://raw.githubusercontent.com/Cjh6116/LabOne1/master/Screen%20Shot%202020-02-21%20at%209.14.13%20AM.png)"
      ]
    },
    {
      "cell_type": "markdown",
      "metadata": {
        "id": "QGG7XYG88Eii",
        "colab_type": "text"
      },
      "source": [
        "#### What is this telling us?"
      ]
    },
    {
      "cell_type": "markdown",
      "metadata": {
        "id": "VS7uGa0l8Eos",
        "colab_type": "text"
      },
      "source": [
        "To depict magnitude, I chose a variation of a grouped symbol graph which, would explain the number of points the winning team received separated between the four regions. This graph isn’t the greatest depiction of the data but, I had trouble finding the best graph to do so. Although it does highlight some important facts such, which region produced the highest and lowest amount of points per year. It also shows where most of that region's points are distributed, so for region W, most of the points are on the lower end, while region Z has more of a stretched out distribution."
      ]
    },
    {
      "cell_type": "markdown",
      "metadata": {
        "id": "bEKFxP8R8Evk",
        "colab_type": "text"
      },
      "source": [
        "### Part-to-Whole\n"
      ]
    },
    {
      "cell_type": "markdown",
      "metadata": {
        "id": "WFHlcYKV8E35",
        "colab_type": "text"
      },
      "source": [
        "![alt text](https://raw.githubusercontent.com/Cjh6116/LabOne1/master/Screen%20Shot%202020-02-21%20at%209.26.32%20AM.png)"
      ]
    },
    {
      "cell_type": "markdown",
      "metadata": {
        "id": "PNSd3wlp8UZH",
        "colab_type": "text"
      },
      "source": [
        "#### What is this telling us?"
      ]
    },
    {
      "cell_type": "markdown",
      "metadata": {
        "id": "y9tb_QRA8aqt",
        "colab_type": "text"
      },
      "source": [
        "For the part of a whole graph, I was stuck between using a treemap and a pie chart. I decided to use the treemap because I thought it better represented the data and was easier to understand. The treemap was in four sections, representing each region. Then, I colored it and put a key to show the darker the color the more points the winning team received for that region. This showed the top region for scoring points. I do have a problem with the labeling on the graph since I was trying to put a text box to Identify the numbers and explain to the reader what these numbers are describing.  "
      ]
    }
  ]
}